{
  "nbformat": 4,
  "nbformat_minor": 0,
  "metadata": {
    "colab": {
      "provenance": []
    },
    "kernelspec": {
      "name": "python3",
      "display_name": "Python 3"
    },
    "language_info": {
      "name": "python"
    }
  },
  "cells": [
    {
      "cell_type": "code",
      "execution_count": 7,
      "metadata": {
        "colab": {
          "base_uri": "https://localhost:8080/"
        },
        "id": "9FQAXBfBpF_a",
        "outputId": "9ad7910e-a572-4554-c737-02ae841b3b5d"
      },
      "outputs": [
        {
          "output_type": "execute_result",
          "data": {
            "text/plain": [
              "      converged: True\n",
              "           flag: converged\n",
              " function_calls: 13\n",
              "     iterations: 11\n",
              "           root: 14.8046875\n",
              "         method: bisect"
            ]
          },
          "metadata": {},
          "execution_count": 7
        }
      ],
      "source": [
        "  import scipy as sp\n",
        "  import math\n",
        "\n",
        "  #Metodos Numericos\n",
        "  #Adolfo Hernandez Ramirez\n",
        "  #24-09-24\n",
        "\n",
        "\n",
        "  #Actividad. Usar la libreria scipy para hacer los diferentes metodos vistos en\n",
        "  #en clase y realizados en c. Comparar con los resultados en c\n",
        "\n",
        "\n",
        "  #Ejemplo 1. Método de Bisección.\n",
        "\n",
        "\n",
        "  f = lambda c: (9.81 * 68.1 / c) * (1 - math.exp(-(c / 68.1) * 10)) - 40\n",
        "\n",
        "  sp.optimize.root_scalar(f,bracket=[4,20],method='bisect',rtol=0.001)\n",
        "\n",
        "\n"
      ]
    },
    {
      "cell_type": "code",
      "source": [
        "#Ejemplo 2. Metodo de falsa posicion\n",
        "\n",
        "\n",
        "sp.optimize.root_scalar(f,bracket=[4,20],method='brentq',rtol=0.001)\n",
        "\n",
        "#Investigando encontre que brentq es oara el metodo de la falsa posicion\n"
      ],
      "metadata": {
        "colab": {
          "base_uri": "https://localhost:8080/"
        },
        "id": "zjRu3FhFulIa",
        "outputId": "07dc83c3-98ef-4f61-e372-b51d224c1fe6"
      },
      "execution_count": 6,
      "outputs": [
        {
          "output_type": "execute_result",
          "data": {
            "text/plain": [
              "      converged: True\n",
              "           flag: converged\n",
              " function_calls: 7\n",
              "     iterations: 6\n",
              "           root: 14.80125729395701\n",
              "         method: brentq"
            ]
          },
          "metadata": {},
          "execution_count": 6
        }
      ]
    },
    {
      "cell_type": "code",
      "source": [
        "#Ejemplo 3. Método de Newton-Rapshon.\n",
        "\n",
        "f = lambda x: math.exp(-x) - x\n",
        "\n",
        "sp.optimize.root_scalar(f,x0=0,method='newton',rtol=0.001)"
      ],
      "metadata": {
        "colab": {
          "base_uri": "https://localhost:8080/"
        },
        "id": "KscZa9qYxF8R",
        "outputId": "699da935-6798-486d-b8cd-db1001b0be67"
      },
      "execution_count": 8,
      "outputs": [
        {
          "output_type": "execute_result",
          "data": {
            "text/plain": [
              "      converged: True\n",
              "           flag: converged\n",
              " function_calls: 8\n",
              "     iterations: 4\n",
              "           root: 0.5671432904097813\n",
              "         method: newton"
            ]
          },
          "metadata": {},
          "execution_count": 8
        }
      ]
    },
    {
      "cell_type": "code",
      "source": [
        "#Ejemplo 4. Método Secante\n",
        "\n",
        "sp.optimize.root_scalar(f,x0=0,x1=1,method='secant',rtol=0.001)"
      ],
      "metadata": {
        "colab": {
          "base_uri": "https://localhost:8080/"
        },
        "id": "NnNW19Z2ySrv",
        "outputId": "2fb9e8ae-bbe6-4dd1-934f-7d74be2d7135"
      },
      "execution_count": 9,
      "outputs": [
        {
          "output_type": "execute_result",
          "data": {
            "text/plain": [
              "      converged: True\n",
              "           flag: converged\n",
              " function_calls: 5\n",
              "     iterations: 4\n",
              "           root: 0.5671433279500201\n",
              "         method: secant"
            ]
          },
          "metadata": {},
          "execution_count": 9
        }
      ]
    },
    {
      "cell_type": "code",
      "source": [],
      "metadata": {
        "id": "sl4KbbXJ1OLY"
      },
      "execution_count": null,
      "outputs": []
    }
  ]
}