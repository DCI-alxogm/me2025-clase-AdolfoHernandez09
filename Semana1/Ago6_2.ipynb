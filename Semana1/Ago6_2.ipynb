{
  "nbformat": 4,
  "nbformat_minor": 0,
  "metadata": {
    "colab": {
      "provenance": [],
      "authorship_tag": "ABX9TyPG3HP/GFLzJYvYdAonZ5mU",
      "include_colab_link": true
    },
    "kernelspec": {
      "name": "python3",
      "display_name": "Python 3"
    },
    "language_info": {
      "name": "python"
    }
  },
  "cells": [
    {
      "cell_type": "markdown",
      "metadata": {
        "id": "view-in-github",
        "colab_type": "text"
      },
      "source": [
        "<a href=\"https://colab.research.google.com/github/DCI-alxogm/me2025-clase-AdolfoHernandez09/blob/main/Semana1/Ago6_2.ipynb\" target=\"_parent\"><img src=\"https://colab.research.google.com/assets/colab-badge.svg\" alt=\"Open In Colab\"/></a>"
      ]
    },
    {
      "cell_type": "code",
      "execution_count": 1,
      "metadata": {
        "colab": {
          "base_uri": "https://localhost:8080/"
        },
        "id": "eElB1_YfcVJp",
        "outputId": "b7c01254-df76-4c2e-e79b-5d41ab9c8ee0"
      },
      "outputs": [
        {
          "output_type": "stream",
          "name": "stdout",
          "text": [
            "Este es un segundo cuadernoooo :) \n"
          ]
        }
      ],
      "source": [
        "#Este es el segundo cuaderno que hare\n",
        "\n",
        "print(\"Este es un segundo cuadernoooo :) \")"
      ]
    },
    {
      "cell_type": "code",
      "source": [],
      "metadata": {
        "id": "inIQBk3kchwO"
      },
      "execution_count": null,
      "outputs": []
    }
  ]
}